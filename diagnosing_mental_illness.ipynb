{
 "cells": [
  {
   "cell_type": "code",
   "execution_count": 1,
   "id": "18e19f19",
   "metadata": {},
   "outputs": [],
   "source": [
    "import optuna\n",
    "import pandas as pd\n",
    "import numpy as np\n",
    "import xgboost as xgb \n",
    "import seaborn as sns\n",
    "import matplotlib.pyplot as plt\n",
    "from sklearn.preprocessing import StandardScaler\n",
    "from sklearn.model_selection import train_test_split\n",
    "from sklearn.ensemble import RandomForestClassifier\n",
    "from sklearn.pipeline import make_pipeline\n",
    "from sklearn.impute import SimpleImputer, KNNImputer\n",
    "from sklearn.metrics import accuracy_score, f1_score, precision_score, recall_score\n",
    "#plt.use_style(\"eightthirtyfive\")"
   ]
  },
  {
   "cell_type": "code",
   "execution_count": 2,
   "id": "a089be15",
   "metadata": {},
   "outputs": [],
   "source": [
    "# Loading the data into a dataframe\n",
    "\n",
    "df = pd.read_stata(\"TEDS-A-2013-DS0001-bndl-data-stata_v2/tedsa_puf_2013_Stata.dta\",\n",
    "                  convert_categoricals=False)"
   ]
  },
  {
   "cell_type": "code",
   "execution_count": 3,
   "id": "7dec6709",
   "metadata": {},
   "outputs": [
    {
     "data": {
      "text/plain": [
       "(1760960, 62)"
      ]
     },
     "execution_count": 3,
     "metadata": {},
     "output_type": "execute_result"
    }
   ],
   "source": [
    "# check the size of the data\n",
    "df.shape"
   ]
  },
  {
   "cell_type": "code",
   "execution_count": 4,
   "id": "e37978d5",
   "metadata": {},
   "outputs": [],
   "source": [
    "# From the documentation -9.0 is used to represent null value \n",
    "# and since PSYPROB is our target value, we want to select all records where\n",
    "# PSYPROB is not null\n",
    "df = df[df['PSYPROB']!=-9]"
   ]
  },
  {
   "cell_type": "code",
   "execution_count": 5,
   "id": "afa1b943",
   "metadata": {},
   "outputs": [
    {
     "data": {
      "text/plain": [
       "(1305760, 62)"
      ]
     },
     "execution_count": 5,
     "metadata": {},
     "output_type": "execute_result"
    }
   ],
   "source": [
    "df.shape"
   ]
  },
  {
   "cell_type": "markdown",
   "id": "88bcb1f2",
   "metadata": {},
   "source": [
    "### This happens to be more than the computatinal capacity of this PC"
   ]
  },
  {
   "cell_type": "code",
   "execution_count": 6,
   "id": "1e2776f3",
   "metadata": {},
   "outputs": [],
   "source": [
    "# so a random sample 0f 400K is selected\n",
    "df = df.sample(400000)"
   ]
  },
  {
   "cell_type": "code",
   "execution_count": 7,
   "id": "cfc1cc2f",
   "metadata": {},
   "outputs": [
    {
     "data": {
      "text/plain": [
       "(400000, 62)"
      ]
     },
     "execution_count": 7,
     "metadata": {},
     "output_type": "execute_result"
    }
   ],
   "source": [
    "# check the size of the new data\n",
    "df.shape"
   ]
  },
  {
   "cell_type": "code",
   "execution_count": 8,
   "id": "b5dde5c5",
   "metadata": {},
   "outputs": [],
   "source": [
    "# From the documentation on the dataset, ADMYR is admission year whichis a constant and will\n",
    "# not add any statistical significant importance to our model so it will be dropped\n",
    "# CASEID is unique to all records and will not contribute to the performance of our model\n",
    "# so it will be droped too\n",
    "\n",
    "df.drop(columns=['ADMYR','CASEID'], axis=1, inplace=True)"
   ]
  },
  {
   "cell_type": "code",
   "execution_count": 9,
   "id": "957d8e78",
   "metadata": {},
   "outputs": [],
   "source": [
    "# From documentation, -9 is used to code missing values, it will be represented as such\n",
    "\n",
    "for cols in df.columns:\n",
    "    \n",
    "    df[cols] = df[cols].apply(lambda x: np.nan if x==-9 else x)"
   ]
  },
  {
   "cell_type": "code",
   "execution_count": 10,
   "id": "da78bac6",
   "metadata": {},
   "outputs": [
    {
     "data": {
      "text/plain": [
       "STFIPS                      0\n",
       "CBSA2010               119320\n",
       "EDUC                    12072\n",
       "MARSTAT                 53602\n",
       "SERVICES                    0\n",
       "DETCRIM                294165\n",
       "NOPRIOR                  8351\n",
       "PSOURCE                  5021\n",
       "ARRESTS                  6623\n",
       "EMPLOY                   3832\n",
       "METHUSE                  8684\n",
       "PSYPROB                     0\n",
       "PREG                   266780\n",
       "GENDER                     85\n",
       "VET                      9705\n",
       "LIVARAG                  4821\n",
       "DAYWAIT                146852\n",
       "DSMCRIT                212593\n",
       "AGE                         0\n",
       "RACE                     3357\n",
       "ETHNIC                   4157\n",
       "DETNLF                 276900\n",
       "PRIMINC                140951\n",
       "SUB1                      783\n",
       "SUB2                    13629\n",
       "SUB3                    62305\n",
       "ROUTE1                   5510\n",
       "ROUTE2                 184428\n",
       "ROUTE3                 318467\n",
       "FREQ1                    6543\n",
       "FREQ2                  184329\n",
       "FREQ3                  317842\n",
       "FRSTUSE1                 6349\n",
       "FRSTUSE2               184486\n",
       "FRSTUSE3               317708\n",
       "HLTHINS                210065\n",
       "PRIMPAY                251951\n",
       "FREQ_ATND_SELF_HELP     83389\n",
       "ALCFLG                      0\n",
       "COKEFLG                     0\n",
       "MARFLG                      0\n",
       "HERFLG                      0\n",
       "METHFLG                     0\n",
       "OPSYNFLG                    0\n",
       "PCPFLG                      0\n",
       "HALLFLG                     0\n",
       "MTHAMFLG                    0\n",
       "AMPHFLG                     0\n",
       "STIMFLG                     0\n",
       "BENZFLG                     0\n",
       "TRNQFLG                     0\n",
       "BARBFLG                     0\n",
       "SEDHPFLG                    0\n",
       "INHFLG                      0\n",
       "OTCFLG                      0\n",
       "OTHERFLG                    0\n",
       "DIVISION                    0\n",
       "REGION                      0\n",
       "IDU                      3640\n",
       "ALCDRUG                     0\n",
       "dtype: int64"
      ]
     },
     "execution_count": 10,
     "metadata": {},
     "output_type": "execute_result"
    }
   ],
   "source": [
    "# Check to see count of missing values\n",
    "df.isnull().sum()"
   ]
  },
  {
   "cell_type": "code",
   "execution_count": 11,
   "id": "1c1c72c4",
   "metadata": {},
   "outputs": [],
   "source": [
    "# Define the X-input and y-output\n",
    "\n",
    "X= df.drop(columns=['PSYPROB'], axis=1)\n",
    "y = df.PSYPROB"
   ]
  },
  {
   "cell_type": "code",
   "execution_count": 12,
   "id": "a380efaf",
   "metadata": {},
   "outputs": [],
   "source": [
    "#The `PSYPROB` is coded as 2 for those without illness while 1 represent those with illness\n",
    "# so mapping is done accordingly\n",
    "y = y.map({2:0, 1:1})"
   ]
  },
  {
   "cell_type": "code",
   "execution_count": 13,
   "id": "f78e4cd7",
   "metadata": {},
   "outputs": [
    {
     "data": {
      "image/png": "[encoded data removed]",
      "text/plain": [
       "<Figure size 640x480 with 1 Axes>"
      ]
     },
     "metadata": {},
     "output_type": "display_data"
    }
   ],
   "source": [
    "# Checking to see the class distribution\n",
    "\n",
    "#y.value_counts().plot(kind='barh');\n",
    "sns.countplot(x=y)\n",
    "plt.title(\"Class distribution\");"
   ]
  },
  {
   "cell_type": "code",
   "execution_count": 14,
   "id": "dba3473f",
   "metadata": {},
   "outputs": [],
   "source": [
    "# Spliting the data intotraining and testing set\n",
    "\n",
    "X_train,X_test,y_train,y_test = train_test_split(X,y,test_size=.2,random_state=42)"
   ]
  },
  {
   "cell_type": "markdown",
   "id": "ca6aaa61",
   "metadata": {},
   "source": [
    "## Create a pipeline with imputer, scaler and classifier"
   ]
  },
  {
   "cell_type": "code",
   "execution_count": 15,
   "id": "4d84fd7c",
   "metadata": {},
   "outputs": [
    {
     "data": {
      "text/html": [
       "<style>#sk-container-id-1 {color: black;background-color: white;}#sk-container-id-1 pre{padding: 0;}#sk-container-id-1 div.sk-toggleable {background-color: white;}#sk-container-id-1 label.sk-toggleable__label {cursor: pointer;display: block;width: 100%;margin-bottom: 0;padding: 0.3em;box-sizing: border-box;text-align: center;}#sk-container-id-1 label.sk-toggleable__label-arrow:before {content: \"▸\";float: left;margin-right: 0.25em;color: #696969;}#sk-container-id-1 label.sk-toggleable__label-arrow:hover:before {color: black;}#sk-container-id-1 div.sk-estimator:hover label.sk-toggleable__label-arrow:before {color: black;}#sk-container-id-1 div.sk-toggleable__content {max-height: 0;max-width: 0;overflow: hidden;text-align: left;background-color: #f0f8ff;}#sk-container-id-1 div.sk-toggleable__content pre {margin: 0.2em;color: black;border-radius: 0.25em;background-color: #f0f8ff;}#sk-container-id-1 input.sk-toggleable__control:checked~div.sk-toggleable__content {max-height: 200px;max-width: 100%;overflow: auto;}#sk-container-id-1 input.sk-toggleable__control:checked~label.sk-toggleable__label-arrow:before {content: \"▾\";}#sk-container-id-1 div.sk-estimator input.sk-toggleable__control:checked~label.sk-toggleable__label {background-color: #d4ebff;}#sk-container-id-1 div.sk-label input.sk-toggleable__control:checked~label.sk-toggleable__label {background-color: #d4ebff;}#sk-container-id-1 input.sk-hidden--visually {border: 0;clip: rect(1px 1px 1px 1px);clip: rect(1px, 1px, 1px, 1px);height: 1px;margin: -1px;overflow: hidden;padding: 0;position: absolute;width: 1px;}#sk-container-id-1 div.sk-estimator {font-family: monospace;background-color: #f0f8ff;border: 1px dotted black;border-radius: 0.25em;box-sizing: border-box;margin-bottom: 0.5em;}#sk-container-id-1 div.sk-estimator:hover {background-color: #d4ebff;}#sk-container-id-1 div.sk-parallel-item::after {content: \"\";width: 100%;border-bottom: 1px solid gray;flex-grow: 1;}#sk-container-id-1 div.sk-label:hover label.sk-toggleable__label {background-color: #d4ebff;}#sk-container-id-1 div.sk-serial::before {content: \"\";position: absolute;border-left: 1px solid gray;box-sizing: border-box;top: 0;bottom: 0;left: 50%;z-index: 0;}#sk-container-id-1 div.sk-serial {display: flex;flex-direction: column;align-items: center;background-color: white;padding-right: 0.2em;padding-left: 0.2em;position: relative;}#sk-container-id-1 div.sk-item {position: relative;z-index: 1;}#sk-container-id-1 div.sk-parallel {display: flex;align-items: stretch;justify-content: center;background-color: white;position: relative;}#sk-container-id-1 div.sk-item::before, #sk-container-id-1 div.sk-parallel-item::before {content: \"\";position: absolute;border-left: 1px solid gray;box-sizing: border-box;top: 0;bottom: 0;left: 50%;z-index: -1;}#sk-container-id-1 div.sk-parallel-item {display: flex;flex-direction: column;z-index: 1;position: relative;background-color: white;}#sk-container-id-1 div.sk-parallel-item:first-child::after {align-self: flex-end;width: 50%;}#sk-container-id-1 div.sk-parallel-item:last-child::after {align-self: flex-start;width: 50%;}#sk-container-id-1 div.sk-parallel-item:only-child::after {width: 0;}#sk-container-id-1 div.sk-dashed-wrapped {border: 1px dashed gray;margin: 0 0.4em 0.5em 0.4em;box-sizing: border-box;padding-bottom: 0.4em;background-color: white;}#sk-container-id-1 div.sk-label label {font-family: monospace;font-weight: bold;display: inline-block;line-height: 1.2em;}#sk-container-id-1 div.sk-label-container {text-align: center;}#sk-container-id-1 div.sk-container {/* jupyter's `normalize.less` sets `[hidden] { display: none; }` but bootstrap.min.css set `[hidden] { display: none !important; }` so we also need the `!important` here to be able to override the default hidden behavior on the sphinx rendered scikit-learn.org. See: https://github.com/scikit-learn/scikit-learn/issues/21755 */display: inline-block !important;position: relative;}#sk-container-id-1 div.sk-text-repr-fallback {display: none;}</style><div id=\"sk-container-id-1\" class=\"sk-top-container\"><div class=\"sk-text-repr-fallback\"><pre>Pipeline(steps=[(&#x27;simpleimputer&#x27;, SimpleImputer()),\n",
       "                (&#x27;standardscaler&#x27;, StandardScaler()),\n",
       "                (&#x27;randomforestclassifier&#x27;,\n",
       "                 RandomForestClassifier(random_state=12))])</pre><b>In a Jupyter environment, please rerun this cell to show the HTML representation or trust the notebook. <br />On GitHub, the HTML representation is unable to render, please try loading this page with nbviewer.org.</b></div><div class=\"sk-container\" hidden><div class=\"sk-item sk-dashed-wrapped\"><div class=\"sk-label-container\"><div class=\"sk-label sk-toggleable\"><input class=\"sk-toggleable__control sk-hidden--visually\" id=\"sk-estimator-id-1\" type=\"checkbox\" ><label for=\"sk-estimator-id-1\" class=\"sk-toggleable__label sk-toggleable__label-arrow\">Pipeline</label><div class=\"sk-toggleable__content\"><pre>Pipeline(steps=[(&#x27;simpleimputer&#x27;, SimpleImputer()),\n",
       "                (&#x27;standardscaler&#x27;, StandardScaler()),\n",
       "                (&#x27;randomforestclassifier&#x27;,\n",
       "                 RandomForestClassifier(random_state=12))])</pre></div></div></div><div class=\"sk-serial\"><div class=\"sk-item\"><div class=\"sk-estimator sk-toggleable\"><input class=\"sk-toggleable__control sk-hidden--visually\" id=\"sk-estimator-id-2\" type=\"checkbox\" ><label for=\"sk-estimator-id-2\" class=\"sk-toggleable__label sk-toggleable__label-arrow\">SimpleImputer</label><div class=\"sk-toggleable__content\"><pre>SimpleImputer()</pre></div></div></div><div class=\"sk-item\"><div class=\"sk-estimator sk-toggleable\"><input class=\"sk-toggleable__control sk-hidden--visually\" id=\"sk-estimator-id-3\" type=\"checkbox\" ><label for=\"sk-estimator-id-3\" class=\"sk-toggleable__label sk-toggleable__label-arrow\">StandardScaler</label><div class=\"sk-toggleable__content\"><pre>StandardScaler()</pre></div></div></div><div class=\"sk-item\"><div class=\"sk-estimator sk-toggleable\"><input class=\"sk-toggleable__control sk-hidden--visually\" id=\"sk-estimator-id-4\" type=\"checkbox\" ><label for=\"sk-estimator-id-4\" class=\"sk-toggleable__label sk-toggleable__label-arrow\">RandomForestClassifier</label><div class=\"sk-toggleable__content\"><pre>RandomForestClassifier(random_state=12)</pre></div></div></div></div></div></div></div>"
      ],
      "text/plain": [
       "Pipeline(steps=[('simpleimputer', SimpleImputer()),\n",
       "                ('standardscaler', StandardScaler()),\n",
       "                ('randomforestclassifier',\n",
       "                 RandomForestClassifier(random_state=12))])"
      ]
     },
     "execution_count": 15,
     "metadata": {},
     "output_type": "execute_result"
    }
   ],
   "source": [
    "pipe = make_pipeline(SimpleImputer(), StandardScaler(), \n",
    "                         RandomForestClassifier(random_state=12))\n",
    "pipe.fit(X_train, y_train)"
   ]
  },
  {
   "cell_type": "markdown",
   "id": "5bb547c4",
   "metadata": {},
   "source": [
    "## Evaluate the performance"
   ]
  },
  {
   "cell_type": "code",
   "execution_count": 16,
   "id": "fa371674",
   "metadata": {},
   "outputs": [
    {
     "name": "stdout",
     "output_type": "stream",
     "text": [
      "The accuracy score is:  0.7648\n",
      "The precision score is:  0.6856049158859676\n",
      "The recall score is:  0.5198197510119912\n",
      "The f1 score is:  0.5913119026933101\n"
     ]
    }
   ],
   "source": [
    "y_pred = pipe.predict(X_test)\n",
    "\n",
    "print(\"The accuracy score is: \", accuracy_score(y_test, y_pred))\n",
    "print(\"The precision score is: \", precision_score(y_test, y_pred))\n",
    "print(\"The recall score is: \", recall_score(y_test, y_pred))\n",
    "print(\"The f1 score is: \", f1_score(y_test, y_pred))\n"
   ]
  },
  {
   "cell_type": "code",
   "execution_count": null,
   "id": "ad976953",
   "metadata": {},
   "outputs": [],
   "source": []
  },
  {
   "cell_type": "markdown",
   "id": "3b048c76",
   "metadata": {},
   "source": [
    "# XGB"
   ]
  },
  {
   "cell_type": "markdown",
   "id": "65411840",
   "metadata": {},
   "source": [
    "## Create a pipeline with imputer, scaler and classifier"
   ]
  },
  {
   "cell_type": "code",
   "execution_count": 17,
   "id": "38a8f5f4",
   "metadata": {},
   "outputs": [
    {
     "data": {
      "text/html": [
       "<style>#sk-container-id-2 {color: black;background-color: white;}#sk-container-id-2 pre{padding: 0;}#sk-container-id-2 div.sk-toggleable {background-color: white;}#sk-container-id-2 label.sk-toggleable__label {cursor: pointer;display: block;width: 100%;margin-bottom: 0;padding: 0.3em;box-sizing: border-box;text-align: center;}#sk-container-id-2 label.sk-toggleable__label-arrow:before {content: \"▸\";float: left;margin-right: 0.25em;color: #696969;}#sk-container-id-2 label.sk-toggleable__label-arrow:hover:before {color: black;}#sk-container-id-2 div.sk-estimator:hover label.sk-toggleable__label-arrow:before {color: black;}#sk-container-id-2 div.sk-toggleable__content {max-height: 0;max-width: 0;overflow: hidden;text-align: left;background-color: #f0f8ff;}#sk-container-id-2 div.sk-toggleable__content pre {margin: 0.2em;color: black;border-radius: 0.25em;background-color: #f0f8ff;}#sk-container-id-2 input.sk-toggleable__control:checked~div.sk-toggleable__content {max-height: 200px;max-width: 100%;overflow: auto;}#sk-container-id-2 input.sk-toggleable__control:checked~label.sk-toggleable__label-arrow:before {content: \"▾\";}#sk-container-id-2 div.sk-estimator input.sk-toggleable__control:checked~label.sk-toggleable__label {background-color: #d4ebff;}#sk-container-id-2 div.sk-label input.sk-toggleable__control:checked~label.sk-toggleable__label {background-color: #d4ebff;}#sk-container-id-2 input.sk-hidden--visually {border: 0;clip: rect(1px 1px 1px 1px);clip: rect(1px, 1px, 1px, 1px);height: 1px;margin: -1px;overflow: hidden;padding: 0;position: absolute;width: 1px;}#sk-container-id-2 div.sk-estimator {font-family: monospace;background-color: #f0f8ff;border: 1px dotted black;border-radius: 0.25em;box-sizing: border-box;margin-bottom: 0.5em;}#sk-container-id-2 div.sk-estimator:hover {background-color: #d4ebff;}#sk-container-id-2 div.sk-parallel-item::after {content: \"\";width: 100%;border-bottom: 1px solid gray;flex-grow: 1;}#sk-container-id-2 div.sk-label:hover label.sk-toggleable__label {background-color: #d4ebff;}#sk-container-id-2 div.sk-serial::before {content: \"\";position: absolute;border-left: 1px solid gray;box-sizing: border-box;top: 0;bottom: 0;left: 50%;z-index: 0;}#sk-container-id-2 div.sk-serial {display: flex;flex-direction: column;align-items: center;background-color: white;padding-right: 0.2em;padding-left: 0.2em;position: relative;}#sk-container-id-2 div.sk-item {position: relative;z-index: 1;}#sk-container-id-2 div.sk-parallel {display: flex;align-items: stretch;justify-content: center;background-color: white;position: relative;}#sk-container-id-2 div.sk-item::before, #sk-container-id-2 div.sk-parallel-item::before {content: \"\";position: absolute;border-left: 1px solid gray;box-sizing: border-box;top: 0;bottom: 0;left: 50%;z-index: -1;}#sk-container-id-2 div.sk-parallel-item {display: flex;flex-direction: column;z-index: 1;position: relative;background-color: white;}#sk-container-id-2 div.sk-parallel-item:first-child::after {align-self: flex-end;width: 50%;}#sk-container-id-2 div.sk-parallel-item:last-child::after {align-self: flex-start;width: 50%;}#sk-container-id-2 div.sk-parallel-item:only-child::after {width: 0;}#sk-container-id-2 div.sk-dashed-wrapped {border: 1px dashed gray;margin: 0 0.4em 0.5em 0.4em;box-sizing: border-box;padding-bottom: 0.4em;background-color: white;}#sk-container-id-2 div.sk-label label {font-family: monospace;font-weight: bold;display: inline-block;line-height: 1.2em;}#sk-container-id-2 div.sk-label-container {text-align: center;}#sk-container-id-2 div.sk-container {/* jupyter's `normalize.less` sets `[hidden] { display: none; }` but bootstrap.min.css set `[hidden] { display: none !important; }` so we also need the `!important` here to be able to override the default hidden behavior on the sphinx rendered scikit-learn.org. See: https://github.com/scikit-learn/scikit-learn/issues/21755 */display: inline-block !important;position: relative;}#sk-container-id-2 div.sk-text-repr-fallback {display: none;}</style><div id=\"sk-container-id-2\" class=\"sk-top-container\"><div class=\"sk-text-repr-fallback\"><pre>Pipeline(steps=[(&#x27;simpleimputer&#x27;, SimpleImputer()),\n",
       "                (&#x27;standardscaler&#x27;, StandardScaler()),\n",
       "                (&#x27;xgbclassifier&#x27;,\n",
       "                 XGBClassifier(base_score=None, booster=None, callbacks=None,\n",
       "                               colsample_bylevel=None, colsample_bynode=None,\n",
       "                               colsample_bytree=None,\n",
       "                               early_stopping_rounds=None,\n",
       "                               enable_categorical=False, eval_metric=None,\n",
       "                               feature_types=None, gamma=None, gpu_id=None,\n",
       "                               grow_policy=None, importance_type=None,\n",
       "                               interaction_constraints=None, learning_rate=None,\n",
       "                               max_bin=None, max_cat_threshold=None,\n",
       "                               max_cat_to_onehot=None, max_delta_step=None,\n",
       "                               max_depth=None, max_leaves=None,\n",
       "                               min_child_weight=None, missing=nan,\n",
       "                               monotone_constraints=None, n_estimators=100,\n",
       "                               n_jobs=None, num_parallel_tree=None,\n",
       "                               predictor=None, random_state=None, ...))])</pre><b>In a Jupyter environment, please rerun this cell to show the HTML representation or trust the notebook. <br />On GitHub, the HTML representation is unable to render, please try loading this page with nbviewer.org.</b></div><div class=\"sk-container\" hidden><div class=\"sk-item sk-dashed-wrapped\"><div class=\"sk-label-container\"><div class=\"sk-label sk-toggleable\"><input class=\"sk-toggleable__control sk-hidden--visually\" id=\"sk-estimator-id-5\" type=\"checkbox\" ><label for=\"sk-estimator-id-5\" class=\"sk-toggleable__label sk-toggleable__label-arrow\">Pipeline</label><div class=\"sk-toggleable__content\"><pre>Pipeline(steps=[(&#x27;simpleimputer&#x27;, SimpleImputer()),\n",
       "                (&#x27;standardscaler&#x27;, StandardScaler()),\n",
       "                (&#x27;xgbclassifier&#x27;,\n",
       "                 XGBClassifier(base_score=None, booster=None, callbacks=None,\n",
       "                               colsample_bylevel=None, colsample_bynode=None,\n",
       "                               colsample_bytree=None,\n",
       "                               early_stopping_rounds=None,\n",
       "                               enable_categorical=False, eval_metric=None,\n",
       "                               feature_types=None, gamma=None, gpu_id=None,\n",
       "                               grow_policy=None, importance_type=None,\n",
       "                               interaction_constraints=None, learning_rate=None,\n",
       "                               max_bin=None, max_cat_threshold=None,\n",
       "                               max_cat_to_onehot=None, max_delta_step=None,\n",
       "                               max_depth=None, max_leaves=None,\n",
       "                               min_child_weight=None, missing=nan,\n",
       "                               monotone_constraints=None, n_estimators=100,\n",
       "                               n_jobs=None, num_parallel_tree=None,\n",
       "                               predictor=None, random_state=None, ...))])</pre></div></div></div><div class=\"sk-serial\"><div class=\"sk-item\"><div class=\"sk-estimator sk-toggleable\"><input class=\"sk-toggleable__control sk-hidden--visually\" id=\"sk-estimator-id-6\" type=\"checkbox\" ><label for=\"sk-estimator-id-6\" class=\"sk-toggleable__label sk-toggleable__label-arrow\">SimpleImputer</label><div class=\"sk-toggleable__content\"><pre>SimpleImputer()</pre></div></div></div><div class=\"sk-item\"><div class=\"sk-estimator sk-toggleable\"><input class=\"sk-toggleable__control sk-hidden--visually\" id=\"sk-estimator-id-7\" type=\"checkbox\" ><label for=\"sk-estimator-id-7\" class=\"sk-toggleable__label sk-toggleable__label-arrow\">StandardScaler</label><div class=\"sk-toggleable__content\"><pre>StandardScaler()</pre></div></div></div><div class=\"sk-item\"><div class=\"sk-estimator sk-toggleable\"><input class=\"sk-toggleable__control sk-hidden--visually\" id=\"sk-estimator-id-8\" type=\"checkbox\" ><label for=\"sk-estimator-id-8\" class=\"sk-toggleable__label sk-toggleable__label-arrow\">XGBClassifier</label><div class=\"sk-toggleable__content\"><pre>XGBClassifier(base_score=None, booster=None, callbacks=None,\n",
       "              colsample_bylevel=None, colsample_bynode=None,\n",
       "              colsample_bytree=None, early_stopping_rounds=None,\n",
       "              enable_categorical=False, eval_metric=None, feature_types=None,\n",
       "              gamma=None, gpu_id=None, grow_policy=None, importance_type=None,\n",
       "              interaction_constraints=None, learning_rate=None, max_bin=None,\n",
       "              max_cat_threshold=None, max_cat_to_onehot=None,\n",
       "              max_delta_step=None, max_depth=None, max_leaves=None,\n",
       "              min_child_weight=None, missing=nan, monotone_constraints=None,\n",
       "              n_estimators=100, n_jobs=None, num_parallel_tree=None,\n",
       "              predictor=None, random_state=None, ...)</pre></div></div></div></div></div></div></div>"
      ],
      "text/plain": [
       "Pipeline(steps=[('simpleimputer', SimpleImputer()),\n",
       "                ('standardscaler', StandardScaler()),\n",
       "                ('xgbclassifier',\n",
       "                 XGBClassifier(base_score=None, booster=None, callbacks=None,\n",
       "                               colsample_bylevel=None, colsample_bynode=None,\n",
       "                               colsample_bytree=None,\n",
       "                               early_stopping_rounds=None,\n",
       "                               enable_categorical=False, eval_metric=None,\n",
       "                               feature_types=None, gamma=None, gpu_id=None,\n",
       "                               grow_policy=None, importance_type=None,\n",
       "                               interaction_constraints=None, learning_rate=None,\n",
       "                               max_bin=None, max_cat_threshold=None,\n",
       "                               max_cat_to_onehot=None, max_delta_step=None,\n",
       "                               max_depth=None, max_leaves=None,\n",
       "                               min_child_weight=None, missing=nan,\n",
       "                               monotone_constraints=None, n_estimators=100,\n",
       "                               n_jobs=None, num_parallel_tree=None,\n",
       "                               predictor=None, random_state=None, ...))])"
      ]
     },
     "execution_count": 17,
     "metadata": {},
     "output_type": "execute_result"
    }
   ],
   "source": [
    "pipex = make_pipeline(SimpleImputer(),\n",
    "                      StandardScaler(), xgb.XGBClassifier())\n",
    "pipex.fit(X_train, y_train)"
   ]
  },
  {
   "cell_type": "markdown",
   "id": "b7e7acc6",
   "metadata": {},
   "source": [
    "# Evaluate the performance"
   ]
  },
  {
   "cell_type": "code",
   "execution_count": 22,
   "id": "0cfd6329",
   "metadata": {},
   "outputs": [
    {
     "name": "stdout",
     "output_type": "stream",
     "text": [
      "The accuracy score is:  0.7692875\n",
      "The precision score is:  0.6860705859694738\n",
      "The recall score is:  0.5441457267242038\n",
      "The f1 score is:  0.6069215206048344\n"
     ]
    }
   ],
   "source": [
    "y_predx = pipex.predict(X_test)\n",
    "\n",
    "print(\"The accuracy score is: \", accuracy_score(y_test, y_predx))\n",
    "print(\"The precision score is: \", precision_score(y_test, y_predx))\n",
    "print(\"The recall score is: \", recall_score(y_test, y_predx))\n",
    "print(\"The f1 score is: \", f1_score(y_test, y_predx))\n"
   ]
  },
  {
   "cell_type": "markdown",
   "id": "75eb9bcd",
   "metadata": {},
   "source": [
    "# Model tunning with optuna library"
   ]
  },
  {
   "cell_type": "code",
   "execution_count": 19,
   "id": "0d20b92f",
   "metadata": {
    "collapsed": true
   },
   "outputs": [
    {
     "name": "stderr",
     "output_type": "stream",
     "text": [
      "\u001b[32m[I 2023-06-29 07:22:07,196]\u001b[0m A new study created in memory with name: no-name-6eac0874-0a13-4cbc-836f-dc9541ad681b\u001b[0m\n",
      "\u001b[32m[I 2023-06-29 07:25:55,761]\u001b[0m Trial 0 finished with value: 0.7617875 and parameters: {'n_estimators': 358, 'max_depth': 7, 'learning_rate': 0.026046660881614656}. Best is trial 0 with value: 0.7617875.\u001b[0m\n",
      "\u001b[32m[I 2023-06-29 07:26:34,657]\u001b[0m Trial 1 finished with value: 0.7380625 and parameters: {'n_estimators': 107, 'max_depth': 4, 'learning_rate': 0.05582502192771617}. Best is trial 0 with value: 0.7617875.\u001b[0m\n",
      "\u001b[32m[I 2023-06-29 07:29:45,290]\u001b[0m Trial 2 finished with value: 0.766 and parameters: {'n_estimators': 300, 'max_depth': 7, 'learning_rate': 0.045461001437038254}. Best is trial 2 with value: 0.766.\u001b[0m\n",
      "\u001b[32m[I 2023-06-29 07:31:22,699]\u001b[0m Trial 3 finished with value: 0.7419375 and parameters: {'n_estimators': 253, 'max_depth': 4, 'learning_rate': 0.029761560197055583}. Best is trial 2 with value: 0.766.\u001b[0m\n",
      "\u001b[32m[I 2023-06-29 07:34:41,764]\u001b[0m Trial 4 finished with value: 0.7538625 and parameters: {'n_estimators': 391, 'max_depth': 4, 'learning_rate': 0.04327030815603418}. Best is trial 2 with value: 0.766.\u001b[0m\n",
      "\u001b[32m[I 2023-06-29 07:40:13,655]\u001b[0m Trial 5 finished with value: 0.7621375 and parameters: {'n_estimators': 310, 'max_depth': 5, 'learning_rate': 0.06777331061490459}. Best is trial 2 with value: 0.766.\u001b[0m\n",
      "\u001b[32m[I 2023-06-29 07:44:38,813]\u001b[0m Trial 6 finished with value: 0.762875 and parameters: {'n_estimators': 181, 'max_depth': 7, 'learning_rate': 0.05931107602624998}. Best is trial 2 with value: 0.766.\u001b[0m\n",
      "\u001b[32m[I 2023-06-29 07:49:57,494]\u001b[0m Trial 7 finished with value: 0.7468375 and parameters: {'n_estimators': 330, 'max_depth': 5, 'learning_rate': 0.020543203365326362}. Best is trial 2 with value: 0.766.\u001b[0m\n",
      "\u001b[32m[I 2023-06-29 07:56:09,888]\u001b[0m Trial 8 finished with value: 0.7677875 and parameters: {'n_estimators': 390, 'max_depth': 5, 'learning_rate': 0.0886875512483825}. Best is trial 8 with value: 0.7677875.\u001b[0m\n",
      "\u001b[32m[I 2023-06-29 08:01:13,988]\u001b[0m Trial 9 finished with value: 0.75675 and parameters: {'n_estimators': 210, 'max_depth': 7, 'learning_rate': 0.0290621307403277}. Best is trial 8 with value: 0.7677875.\u001b[0m\n",
      "\u001b[32m[I 2023-06-29 08:05:03,860]\u001b[0m Trial 10 finished with value: 0.75425 and parameters: {'n_estimators': 400, 'max_depth': 3, 'learning_rate': 0.09047250995304591}. Best is trial 8 with value: 0.7677875.\u001b[0m\n",
      "\u001b[32m[I 2023-06-29 08:10:28,523]\u001b[0m Trial 11 finished with value: 0.7302625 and parameters: {'n_estimators': 272, 'max_depth': 6, 'learning_rate': 0.004584816777400996}. Best is trial 8 with value: 0.7677875.\u001b[0m\n",
      "\u001b[32m[I 2023-06-29 08:16:29,034]\u001b[0m Trial 12 finished with value: 0.7698875 and parameters: {'n_estimators': 306, 'max_depth': 6, 'learning_rate': 0.08711549693057488}. Best is trial 12 with value: 0.7698875.\u001b[0m\n",
      "\u001b[32m[I 2023-06-29 08:23:22,609]\u001b[0m Trial 13 finished with value: 0.77155 and parameters: {'n_estimators': 351, 'max_depth': 6, 'learning_rate': 0.0999539441699178}. Best is trial 13 with value: 0.77155.\u001b[0m\n",
      "\u001b[32m[I 2023-06-29 08:30:10,607]\u001b[0m Trial 14 finished with value: 0.77145 and parameters: {'n_estimators': 344, 'max_depth': 6, 'learning_rate': 0.0978472243488034}. Best is trial 13 with value: 0.77155.\u001b[0m\n",
      "\u001b[32m[I 2023-06-29 08:37:06,736]\u001b[0m Trial 15 finished with value: 0.7709375 and parameters: {'n_estimators': 350, 'max_depth': 6, 'learning_rate': 0.09624748661861836}. Best is trial 13 with value: 0.77155.\u001b[0m\n",
      "\u001b[32m[I 2023-06-29 08:41:22,754]\u001b[0m Trial 16 finished with value: 0.7676625 and parameters: {'n_estimators': 214, 'max_depth': 6, 'learning_rate': 0.09963406630899012}. Best is trial 13 with value: 0.77155.\u001b[0m\n",
      "\u001b[32m[I 2023-06-29 08:48:25,469]\u001b[0m Trial 17 finished with value: 0.7696125 and parameters: {'n_estimators': 355, 'max_depth': 6, 'learning_rate': 0.07813725351038389}. Best is trial 13 with value: 0.77155.\u001b[0m\n",
      "\u001b[32m[I 2023-06-29 08:52:53,695]\u001b[0m Trial 18 finished with value: 0.76355 and parameters: {'n_estimators': 277, 'max_depth': 5, 'learning_rate': 0.07792452422578823}. Best is trial 13 with value: 0.77155.\u001b[0m\n",
      "\u001b[32m[I 2023-06-29 08:55:19,703]\u001b[0m Trial 19 finished with value: 0.7597625 and parameters: {'n_estimators': 120, 'max_depth': 6, 'learning_rate': 0.09953698754732196}. Best is trial 13 with value: 0.77155.\u001b[0m\n",
      "\u001b[32m[I 2023-06-29 09:04:07,323]\u001b[0m Trial 20 finished with value: 0.7731625 and parameters: {'n_estimators': 366, 'max_depth': 7, 'learning_rate': 0.07923124396466291}. Best is trial 20 with value: 0.7731625.\u001b[0m\n",
      "\u001b[32m[I 2023-06-29 09:13:01,720]\u001b[0m Trial 21 finished with value: 0.774025 and parameters: {'n_estimators': 366, 'max_depth': 7, 'learning_rate': 0.0809378203236036}. Best is trial 21 with value: 0.774025.\u001b[0m\n",
      "\u001b[32m[I 2023-06-29 09:17:41,937]\u001b[0m Trial 22 finished with value: 0.773425 and parameters: {'n_estimators': 378, 'max_depth': 7, 'learning_rate': 0.07843057448071386}. Best is trial 21 with value: 0.774025.\u001b[0m\n",
      "\u001b[32m[I 2023-06-29 09:21:03,173]\u001b[0m Trial 23 finished with value: 0.772775 and parameters: {'n_estimators': 374, 'max_depth': 7, 'learning_rate': 0.07340004449473468}. Best is trial 21 with value: 0.774025.\u001b[0m\n",
      "\u001b[32m[I 2023-06-29 09:23:57,531]\u001b[0m Trial 24 finished with value: 0.7708 and parameters: {'n_estimators': 325, 'max_depth': 7, 'learning_rate': 0.0667226957402743}. Best is trial 21 with value: 0.774025.\u001b[0m\n",
      "\u001b[32m[I 2023-06-29 09:27:17,893]\u001b[0m Trial 25 finished with value: 0.773575 and parameters: {'n_estimators': 376, 'max_depth': 7, 'learning_rate': 0.08328599394782094}. Best is trial 21 with value: 0.774025.\u001b[0m\n",
      "\u001b[32m[I 2023-06-29 09:30:39,335]\u001b[0m Trial 26 finished with value: 0.7730375 and parameters: {'n_estimators': 378, 'max_depth': 7, 'learning_rate': 0.08347738232587398}. Best is trial 21 with value: 0.774025.\u001b[0m\n",
      "\u001b[32m[I 2023-06-29 09:33:33,519]\u001b[0m Trial 27 finished with value: 0.7713125 and parameters: {'n_estimators': 326, 'max_depth': 7, 'learning_rate': 0.06856148326372108}. Best is trial 21 with value: 0.774025.\u001b[0m\n",
      "\u001b[32m[I 2023-06-29 09:34:36,236]\u001b[0m Trial 28 finished with value: 0.751275 and parameters: {'n_estimators': 285, 'max_depth': 3, 'learning_rate': 0.08354338144084798}. Best is trial 21 with value: 0.774025.\u001b[0m\n",
      "\u001b[32m[I 2023-06-29 09:38:10,950]\u001b[0m Trial 29 finished with value: 0.77295 and parameters: {'n_estimators': 399, 'max_depth': 7, 'learning_rate': 0.07221690815327478}. Best is trial 21 with value: 0.774025.\u001b[0m\n",
      "\u001b[32m[I 2023-06-29 09:41:33,833]\u001b[0m Trial 30 finished with value: 0.7741125 and parameters: {'n_estimators': 376, 'max_depth': 7, 'learning_rate': 0.09102683367757637}. Best is trial 30 with value: 0.7741125.\u001b[0m\n",
      "\u001b[32m[I 2023-06-29 09:44:55,416]\u001b[0m Trial 31 finished with value: 0.7737 and parameters: {'n_estimators': 373, 'max_depth': 7, 'learning_rate': 0.09116912550637725}. Best is trial 30 with value: 0.7741125.\u001b[0m\n",
      "\u001b[32m[I 2023-06-29 09:47:57,142]\u001b[0m Trial 32 finished with value: 0.7732625 and parameters: {'n_estimators': 337, 'max_depth': 7, 'learning_rate': 0.08896519683037163}. Best is trial 30 with value: 0.7741125.\u001b[0m\n",
      "\u001b[32m[I 2023-06-29 09:51:12,590]\u001b[0m Trial 33 finished with value: 0.77405 and parameters: {'n_estimators': 362, 'max_depth': 7, 'learning_rate': 0.09233813443977425}. Best is trial 30 with value: 0.7741125.\u001b[0m\n",
      "\u001b[32m[I 2023-06-29 09:54:28,000]\u001b[0m Trial 34 finished with value: 0.7746375 and parameters: {'n_estimators': 362, 'max_depth': 7, 'learning_rate': 0.09191903847373238}. Best is trial 34 with value: 0.7746375.\u001b[0m\n",
      "\u001b[32m[I 2023-06-29 09:57:06,487]\u001b[0m Trial 35 finished with value: 0.7715875 and parameters: {'n_estimators': 357, 'max_depth': 6, 'learning_rate': 0.0926664307707534}. Best is trial 34 with value: 0.7746375.\u001b[0m\n",
      "\u001b[32m[I 2023-06-29 09:59:43,834]\u001b[0m Trial 36 finished with value: 0.7720875 and parameters: {'n_estimators': 294, 'max_depth': 7, 'learning_rate': 0.0928571706449864}. Best is trial 34 with value: 0.7746375.\u001b[0m\n",
      "\u001b[32m[I 2023-06-29 10:01:15,392]\u001b[0m Trial 37 finished with value: 0.7580625 and parameters: {'n_estimators': 317, 'max_depth': 4, 'learning_rate': 0.08531399389600768}. Best is trial 34 with value: 0.7746375.\u001b[0m\n",
      "\u001b[32m[I 2023-06-29 10:03:25,154]\u001b[0m Trial 38 finished with value: 0.77175 and parameters: {'n_estimators': 242, 'max_depth': 7, 'learning_rate': 0.09392694998218405}. Best is trial 34 with value: 0.7746375.\u001b[0m\n"
     ]
    },
    {
     "name": "stderr",
     "output_type": "stream",
     "text": [
      "\u001b[32m[I 2023-06-29 10:04:38,210]\u001b[0m Trial 39 finished with value: 0.7567875 and parameters: {'n_estimators': 162, 'max_depth': 6, 'learning_rate': 0.0594322959700815}. Best is trial 34 with value: 0.7746375.\u001b[0m\n",
      "\u001b[32m[I 2023-06-29 10:06:39,722]\u001b[0m Trial 40 finished with value: 0.767075 and parameters: {'n_estimators': 335, 'max_depth': 5, 'learning_rate': 0.09487811859061045}. Best is trial 34 with value: 0.7746375.\u001b[0m\n",
      "\u001b[32m[I 2023-06-29 10:10:05,857]\u001b[0m Trial 41 finished with value: 0.77415 and parameters: {'n_estimators': 387, 'max_depth': 7, 'learning_rate': 0.08985874031048052}. Best is trial 34 with value: 0.7746375.\u001b[0m\n",
      "\u001b[32m[I 2023-06-29 10:13:35,069]\u001b[0m Trial 42 finished with value: 0.774575 and parameters: {'n_estimators': 385, 'max_depth': 7, 'learning_rate': 0.08603869367565367}. Best is trial 34 with value: 0.7746375.\u001b[0m\n",
      "\u001b[32m[I 2023-06-29 10:17:05,672]\u001b[0m Trial 43 finished with value: 0.774125 and parameters: {'n_estimators': 390, 'max_depth': 7, 'learning_rate': 0.08847710558511744}. Best is trial 34 with value: 0.7746375.\u001b[0m\n",
      "\u001b[32m[I 2023-06-29 10:20:36,769]\u001b[0m Trial 44 finished with value: 0.773875 and parameters: {'n_estimators': 390, 'max_depth': 7, 'learning_rate': 0.08757761230356949}. Best is trial 34 with value: 0.7746375.\u001b[0m\n",
      "\u001b[32m[I 2023-06-29 10:24:08,477]\u001b[0m Trial 45 finished with value: 0.773325 and parameters: {'n_estimators': 392, 'max_depth': 7, 'learning_rate': 0.08694603400599449}. Best is trial 34 with value: 0.7746375.\u001b[0m\n",
      "\u001b[32m[I 2023-06-29 10:27:37,804]\u001b[0m Trial 46 finished with value: 0.7729 and parameters: {'n_estimators': 385, 'max_depth': 7, 'learning_rate': 0.08825366070158641}. Best is trial 34 with value: 0.7746375.\u001b[0m\n",
      "\u001b[32m[I 2023-06-29 10:30:36,575]\u001b[0m Trial 47 finished with value: 0.7719625 and parameters: {'n_estimators': 397, 'max_depth': 6, 'learning_rate': 0.09559623957375502}. Best is trial 34 with value: 0.7746375.\u001b[0m\n",
      "\u001b[32m[I 2023-06-29 10:33:11,510]\u001b[0m Trial 48 finished with value: 0.77045 and parameters: {'n_estimators': 344, 'max_depth': 6, 'learning_rate': 0.08357076525431471}. Best is trial 34 with value: 0.7746375.\u001b[0m\n",
      "\u001b[32m[I 2023-06-29 10:35:07,757]\u001b[0m Trial 49 finished with value: 0.7603 and parameters: {'n_estimators': 400, 'max_depth': 4, 'learning_rate': 0.07463581587402382}. Best is trial 34 with value: 0.7746375.\u001b[0m\n"
     ]
    },
    {
     "ename": "AttributeError",
     "evalue": "'Study' object has no attribute 'best_values'",
     "output_type": "error",
     "traceback": [
      "\u001b[0;31m---------------------------------------------------------------------------\u001b[0m",
      "\u001b[0;31mAttributeError\u001b[0m                            Traceback (most recent call last)",
      "Cell \u001b[0;32mIn[19], line 18\u001b[0m\n\u001b[1;32m     16\u001b[0m study \u001b[38;5;241m=\u001b[39m optuna\u001b[38;5;241m.\u001b[39mcreate_study(direction\u001b[38;5;241m=\u001b[39m\u001b[38;5;124m'\u001b[39m\u001b[38;5;124mmaximize\u001b[39m\u001b[38;5;124m'\u001b[39m)\n\u001b[1;32m     17\u001b[0m study\u001b[38;5;241m.\u001b[39moptimize(objective, n_trials\u001b[38;5;241m=\u001b[39m\u001b[38;5;241m50\u001b[39m)\n\u001b[0;32m---> 18\u001b[0m \u001b[38;5;28mprint\u001b[39m(\u001b[43mstudy\u001b[49m\u001b[38;5;241;43m.\u001b[39;49m\u001b[43mbest_values\u001b[49m)\n\u001b[1;32m     19\u001b[0m \u001b[38;5;28mprint\u001b[39m(study\u001b[38;5;241m.\u001b[39mbest_param)\n",
      "\u001b[0;31mAttributeError\u001b[0m: 'Study' object has no attribute 'best_values'"
     ]
    }
   ],
   "source": [
    "def objective(trial):\n",
    "    #n_estimators = trial.suggest_int(\"n_estimator\", 100,500)\n",
    "    n_estimators = trial.suggest_int(\"n_estimators\", 100,400)\n",
    "    max_depth = trial.suggest_int(\"max_depth\",3,7)\n",
    "    learning_rate = trial.suggest_float(\"learning_rate\", .001,.1)\n",
    "    \n",
    "    pipex = make_pipeline(SimpleImputer(),StandardScaler(),\n",
    "                          xgb.XGBClassifier(n_estimators=n_estimators, \n",
    "                                           max_depth=max_depth,\n",
    "                                            learning_rate = learning_rate))\n",
    "    pipex.fit(X_train,y_train)\n",
    "    y_predx = pipex.predict(X_test)\n",
    "\n",
    "    return accuracy_score(y_test, y_predx)\n",
    "\n",
    "study = optuna.create_study(direction='maximize')\n",
    "study.optimize(objective, n_trials=50)\n"
   ]
  },
  {
   "cell_type": "code",
   "execution_count": 21,
   "id": "aeb9bb08",
   "metadata": {},
   "outputs": [
    {
     "name": "stdout",
     "output_type": "stream",
     "text": [
      "0.7746375\n",
      "{'n_estimators': 362, 'max_depth': 7, 'learning_rate': 0.09191903847373238}\n"
     ]
    }
   ],
   "source": [
    "print(study.best_value)\n",
    "print(study.best_params)"
   ]
  },
  {
   "cell_type": "markdown",
   "id": "37d2ab97",
   "metadata": {},
   "source": [
    "### Train a pipeline with the best parameters"
   ]
  },
  {
   "cell_type": "code",
   "execution_count": 25,
   "id": "d74ee8ae",
   "metadata": {},
   "outputs": [
    {
     "data": {
      "text/html": [
       "<style>#sk-container-id-3 {color: black;background-color: white;}#sk-container-id-3 pre{padding: 0;}#sk-container-id-3 div.sk-toggleable {background-color: white;}#sk-container-id-3 label.sk-toggleable__label {cursor: pointer;display: block;width: 100%;margin-bottom: 0;padding: 0.3em;box-sizing: border-box;text-align: center;}#sk-container-id-3 label.sk-toggleable__label-arrow:before {content: \"▸\";float: left;margin-right: 0.25em;color: #696969;}#sk-container-id-3 label.sk-toggleable__label-arrow:hover:before {color: black;}#sk-container-id-3 div.sk-estimator:hover label.sk-toggleable__label-arrow:before {color: black;}#sk-container-id-3 div.sk-toggleable__content {max-height: 0;max-width: 0;overflow: hidden;text-align: left;background-color: #f0f8ff;}#sk-container-id-3 div.sk-toggleable__content pre {margin: 0.2em;color: black;border-radius: 0.25em;background-color: #f0f8ff;}#sk-container-id-3 input.sk-toggleable__control:checked~div.sk-toggleable__content {max-height: 200px;max-width: 100%;overflow: auto;}#sk-container-id-3 input.sk-toggleable__control:checked~label.sk-toggleable__label-arrow:before {content: \"▾\";}#sk-container-id-3 div.sk-estimator input.sk-toggleable__control:checked~label.sk-toggleable__label {background-color: #d4ebff;}#sk-container-id-3 div.sk-label input.sk-toggleable__control:checked~label.sk-toggleable__label {background-color: #d4ebff;}#sk-container-id-3 input.sk-hidden--visually {border: 0;clip: rect(1px 1px 1px 1px);clip: rect(1px, 1px, 1px, 1px);height: 1px;margin: -1px;overflow: hidden;padding: 0;position: absolute;width: 1px;}#sk-container-id-3 div.sk-estimator {font-family: monospace;background-color: #f0f8ff;border: 1px dotted black;border-radius: 0.25em;box-sizing: border-box;margin-bottom: 0.5em;}#sk-container-id-3 div.sk-estimator:hover {background-color: #d4ebff;}#sk-container-id-3 div.sk-parallel-item::after {content: \"\";width: 100%;border-bottom: 1px solid gray;flex-grow: 1;}#sk-container-id-3 div.sk-label:hover label.sk-toggleable__label {background-color: #d4ebff;}#sk-container-id-3 div.sk-serial::before {content: \"\";position: absolute;border-left: 1px solid gray;box-sizing: border-box;top: 0;bottom: 0;left: 50%;z-index: 0;}#sk-container-id-3 div.sk-serial {display: flex;flex-direction: column;align-items: center;background-color: white;padding-right: 0.2em;padding-left: 0.2em;position: relative;}#sk-container-id-3 div.sk-item {position: relative;z-index: 1;}#sk-container-id-3 div.sk-parallel {display: flex;align-items: stretch;justify-content: center;background-color: white;position: relative;}#sk-container-id-3 div.sk-item::before, #sk-container-id-3 div.sk-parallel-item::before {content: \"\";position: absolute;border-left: 1px solid gray;box-sizing: border-box;top: 0;bottom: 0;left: 50%;z-index: -1;}#sk-container-id-3 div.sk-parallel-item {display: flex;flex-direction: column;z-index: 1;position: relative;background-color: white;}#sk-container-id-3 div.sk-parallel-item:first-child::after {align-self: flex-end;width: 50%;}#sk-container-id-3 div.sk-parallel-item:last-child::after {align-self: flex-start;width: 50%;}#sk-container-id-3 div.sk-parallel-item:only-child::after {width: 0;}#sk-container-id-3 div.sk-dashed-wrapped {border: 1px dashed gray;margin: 0 0.4em 0.5em 0.4em;box-sizing: border-box;padding-bottom: 0.4em;background-color: white;}#sk-container-id-3 div.sk-label label {font-family: monospace;font-weight: bold;display: inline-block;line-height: 1.2em;}#sk-container-id-3 div.sk-label-container {text-align: center;}#sk-container-id-3 div.sk-container {/* jupyter's `normalize.less` sets `[hidden] { display: none; }` but bootstrap.min.css set `[hidden] { display: none !important; }` so we also need the `!important` here to be able to override the default hidden behavior on the sphinx rendered scikit-learn.org. See: https://github.com/scikit-learn/scikit-learn/issues/21755 */display: inline-block !important;position: relative;}#sk-container-id-3 div.sk-text-repr-fallback {display: none;}</style><div id=\"sk-container-id-3\" class=\"sk-top-container\"><div class=\"sk-text-repr-fallback\"><pre>Pipeline(steps=[(&#x27;simpleimputer&#x27;, SimpleImputer()),\n",
       "                (&#x27;standardscaler&#x27;, StandardScaler()),\n",
       "                (&#x27;xgbclassifier&#x27;,\n",
       "                 XGBClassifier(base_score=None, booster=None, callbacks=None,\n",
       "                               colsample_bylevel=None, colsample_bynode=None,\n",
       "                               colsample_bytree=None,\n",
       "                               early_stopping_rounds=None,\n",
       "                               enable_categorical=False, eval_metric=None,\n",
       "                               feature_types=None, gamma=None, gpu_id=None,\n",
       "                               grow_policy=None, importance_type=None,\n",
       "                               interaction_constraints=None,\n",
       "                               learning_rate=0.09191903847373238, max_bin=None,\n",
       "                               max_cat_threshold=None, max_cat_to_onehot=None,\n",
       "                               max_delta_step=None, max_depth=7,\n",
       "                               max_leaves=None, min_child_weight=None,\n",
       "                               missing=nan, monotone_constraints=None,\n",
       "                               n_estimators=362, n_jobs=None,\n",
       "                               num_parallel_tree=None, predictor=None,\n",
       "                               random_state=None, ...))])</pre><b>In a Jupyter environment, please rerun this cell to show the HTML representation or trust the notebook. <br />On GitHub, the HTML representation is unable to render, please try loading this page with nbviewer.org.</b></div><div class=\"sk-container\" hidden><div class=\"sk-item sk-dashed-wrapped\"><div class=\"sk-label-container\"><div class=\"sk-label sk-toggleable\"><input class=\"sk-toggleable__control sk-hidden--visually\" id=\"sk-estimator-id-9\" type=\"checkbox\" ><label for=\"sk-estimator-id-9\" class=\"sk-toggleable__label sk-toggleable__label-arrow\">Pipeline</label><div class=\"sk-toggleable__content\"><pre>Pipeline(steps=[(&#x27;simpleimputer&#x27;, SimpleImputer()),\n",
       "                (&#x27;standardscaler&#x27;, StandardScaler()),\n",
       "                (&#x27;xgbclassifier&#x27;,\n",
       "                 XGBClassifier(base_score=None, booster=None, callbacks=None,\n",
       "                               colsample_bylevel=None, colsample_bynode=None,\n",
       "                               colsample_bytree=None,\n",
       "                               early_stopping_rounds=None,\n",
       "                               enable_categorical=False, eval_metric=None,\n",
       "                               feature_types=None, gamma=None, gpu_id=None,\n",
       "                               grow_policy=None, importance_type=None,\n",
       "                               interaction_constraints=None,\n",
       "                               learning_rate=0.09191903847373238, max_bin=None,\n",
       "                               max_cat_threshold=None, max_cat_to_onehot=None,\n",
       "                               max_delta_step=None, max_depth=7,\n",
       "                               max_leaves=None, min_child_weight=None,\n",
       "                               missing=nan, monotone_constraints=None,\n",
       "                               n_estimators=362, n_jobs=None,\n",
       "                               num_parallel_tree=None, predictor=None,\n",
       "                               random_state=None, ...))])</pre></div></div></div><div class=\"sk-serial\"><div class=\"sk-item\"><div class=\"sk-estimator sk-toggleable\"><input class=\"sk-toggleable__control sk-hidden--visually\" id=\"sk-estimator-id-10\" type=\"checkbox\" ><label for=\"sk-estimator-id-10\" class=\"sk-toggleable__label sk-toggleable__label-arrow\">SimpleImputer</label><div class=\"sk-toggleable__content\"><pre>SimpleImputer()</pre></div></div></div><div class=\"sk-item\"><div class=\"sk-estimator sk-toggleable\"><input class=\"sk-toggleable__control sk-hidden--visually\" id=\"sk-estimator-id-11\" type=\"checkbox\" ><label for=\"sk-estimator-id-11\" class=\"sk-toggleable__label sk-toggleable__label-arrow\">StandardScaler</label><div class=\"sk-toggleable__content\"><pre>StandardScaler()</pre></div></div></div><div class=\"sk-item\"><div class=\"sk-estimator sk-toggleable\"><input class=\"sk-toggleable__control sk-hidden--visually\" id=\"sk-estimator-id-12\" type=\"checkbox\" ><label for=\"sk-estimator-id-12\" class=\"sk-toggleable__label sk-toggleable__label-arrow\">XGBClassifier</label><div class=\"sk-toggleable__content\"><pre>XGBClassifier(base_score=None, booster=None, callbacks=None,\n",
       "              colsample_bylevel=None, colsample_bynode=None,\n",
       "              colsample_bytree=None, early_stopping_rounds=None,\n",
       "              enable_categorical=False, eval_metric=None, feature_types=None,\n",
       "              gamma=None, gpu_id=None, grow_policy=None, importance_type=None,\n",
       "              interaction_constraints=None, learning_rate=0.09191903847373238,\n",
       "              max_bin=None, max_cat_threshold=None, max_cat_to_onehot=None,\n",
       "              max_delta_step=None, max_depth=7, max_leaves=None,\n",
       "              min_child_weight=None, missing=nan, monotone_constraints=None,\n",
       "              n_estimators=362, n_jobs=None, num_parallel_tree=None,\n",
       "              predictor=None, random_state=None, ...)</pre></div></div></div></div></div></div></div>"
      ],
      "text/plain": [
       "Pipeline(steps=[('simpleimputer', SimpleImputer()),\n",
       "                ('standardscaler', StandardScaler()),\n",
       "                ('xgbclassifier',\n",
       "                 XGBClassifier(base_score=None, booster=None, callbacks=None,\n",
       "                               colsample_bylevel=None, colsample_bynode=None,\n",
       "                               colsample_bytree=None,\n",
       "                               early_stopping_rounds=None,\n",
       "                               enable_categorical=False, eval_metric=None,\n",
       "                               feature_types=None, gamma=None, gpu_id=None,\n",
       "                               grow_policy=None, importance_type=None,\n",
       "                               interaction_constraints=None,\n",
       "                               learning_rate=0.09191903847373238, max_bin=None,\n",
       "                               max_cat_threshold=None, max_cat_to_onehot=None,\n",
       "                               max_delta_step=None, max_depth=7,\n",
       "                               max_leaves=None, min_child_weight=None,\n",
       "                               missing=nan, monotone_constraints=None,\n",
       "                               n_estimators=362, n_jobs=None,\n",
       "                               num_parallel_tree=None, predictor=None,\n",
       "                               random_state=None, ...))])"
      ]
     },
     "execution_count": 25,
     "metadata": {},
     "output_type": "execute_result"
    }
   ],
   "source": [
    "new_pipe = make_pipeline(SimpleImputer(),\n",
    "                      StandardScaler(), xgb.XGBClassifier(\n",
    "                          n_estimators= 362, \n",
    "                          max_depth= 7, \n",
    "                          learning_rate= 0.09191903847373238\n",
    "                      ))\n",
    "new_pipe.fit(X_train, y_train)"
   ]
  },
  {
   "cell_type": "markdown",
   "id": "348fe838",
   "metadata": {},
   "source": [
    "## Evaluate the performance of the new pipeline"
   ]
  },
  {
   "cell_type": "code",
   "execution_count": 26,
   "id": "40344b8f",
   "metadata": {},
   "outputs": [
    {
     "name": "stdout",
     "output_type": "stream",
     "text": [
      "The accuracy score is:  0.7746375\n",
      "The precision score is:  0.695208921648399\n",
      "The recall score is:  0.554685709921332\n",
      "The f1 score is:  0.6170479406954268\n"
     ]
    }
   ],
   "source": [
    "y_pred_new = new_pipe.predict(X_test)\n",
    "\n",
    "print(\"The accuracy score is: \", accuracy_score(y_test, y_pred_new))\n",
    "print(\"The precision score is: \", precision_score(y_test, y_pred_new))\n",
    "print(\"The recall score is: \", recall_score(y_test, y_pred_new))\n",
    "print(\"The f1 score is: \", f1_score(y_test, y_pred_new))"
   ]
  },
  {
   "cell_type": "code",
   "execution_count": 27,
   "id": "64a19a7b",
   "metadata": {},
   "outputs": [
    {
     "data": {
      "text/html": [
       "<div>\n",
       "<style scoped>\n",
       "    .dataframe tbody tr th:only-of-type {\n",
       "        vertical-align: middle;\n",
       "    }\n",
       "\n",
       "    .dataframe tbody tr th {\n",
       "        vertical-align: top;\n",
       "    }\n",
       "\n",
       "    .dataframe thead th {\n",
       "        text-align: right;\n",
       "    }\n",
       "</style>\n",
       "<table border=\"1\" class=\"dataframe\">\n",
       "  <thead>\n",
       "    <tr style=\"text-align: right;\">\n",
       "      <th>col_0</th>\n",
       "      <th>0</th>\n",
       "      <th>1</th>\n",
       "    </tr>\n",
       "    <tr>\n",
       "      <th>PSYPROB</th>\n",
       "      <th></th>\n",
       "      <th></th>\n",
       "    </tr>\n",
       "  </thead>\n",
       "  <tbody>\n",
       "    <tr>\n",
       "      <th>0</th>\n",
       "      <td>47446</td>\n",
       "      <td>6368</td>\n",
       "    </tr>\n",
       "    <tr>\n",
       "      <th>1</th>\n",
       "      <td>11661</td>\n",
       "      <td>14525</td>\n",
       "    </tr>\n",
       "  </tbody>\n",
       "</table>\n",
       "</div>"
      ],
      "text/plain": [
       "col_0        0      1\n",
       "PSYPROB              \n",
       "0        47446   6368\n",
       "1        11661  14525"
      ]
     },
     "execution_count": 27,
     "metadata": {},
     "output_type": "execute_result"
    }
   ],
   "source": [
    "pd.crosstab(y_test, y_pred_new)"
   ]
  },
  {
   "cell_type": "code",
   "execution_count": null,
   "id": "735a5fd6",
   "metadata": {},
   "outputs": [],
   "source": []
  }
 ],
 "metadata": {
  "kernelspec": {
   "display_name": "Python 3 (ipykernel)",
   "language": "python",
   "name": "python3"
  },
  "language_info": {
   "codemirror_mode": {
    "name": "ipython",
    "version": 3
   },
   "file_extension": ".py",
   "mimetype": "text/x-python",
   "name": "python",
   "nbconvert_exporter": "python",
   "pygments_lexer": "ipython3",
   "version": "3.11.3"
  }
 },
 "nbformat": 4,
 "nbformat_minor": 5
}
